{
 "cells": [
  {
   "cell_type": "code",
   "execution_count": 23,
   "metadata": {},
   "outputs": [
    {
     "name": "stdout",
     "output_type": "stream",
     "text": [
      "Note: you may need to restart the kernel to use updated packages.\n"
     ]
    },
    {
     "name": "stderr",
     "output_type": "stream",
     "text": [
      "ERROR: Invalid requirement: '#installing'\n",
      "\n",
      "[notice] A new release of pip is available: 23.2.1 -> 25.0\n",
      "[notice] To update, run: python.exe -m pip install --upgrade pip\n"
     ]
    }
   ],
   "source": [
    "%pip install mediapipe opencv-python matplotlib   #installing the required libraries"
   ]
  },
  {
   "cell_type": "code",
   "execution_count": 2,
   "metadata": {},
   "outputs": [],
   "source": [
    "import cv2\n",
    "import mediapipe as mp\n",
    "import numpy as np"
   ]
  },
  {
   "cell_type": "markdown",
   "metadata": {},
   "source": [
    "### Realtime Camera Feed"
   ]
  },
  {
   "cell_type": "code",
   "execution_count": 35,
   "metadata": {},
   "outputs": [],
   "source": [
    "cap = cv2.VideoCapture(0)\n",
    "while cap.isOpened():\n",
    "    ret, frame = cap.read() #ret: A boolean indicating whether the frame was successfully captured.\n",
    "                            #frame: The actual image frame from the video feed.\n",
    "    \n",
    "    cv2.imshow('Selfie Seg', frame)\n",
    "    \n",
    "    if cv2.waitKey(10) & 0xFF == ord('q'):\n",
    "        break\n",
    "cap.release()\n",
    "cv2.destroyAllWindows()"
   ]
  },
  {
   "cell_type": "markdown",
   "metadata": {},
   "source": [
    "### For Black or Solid Background\n"
   ]
  },
  {
   "cell_type": "code",
   "execution_count": 42,
   "metadata": {},
   "outputs": [],
   "source": [
    "\n",
    "# Initialize MediaPipe Selfie Segmentation\n",
    "mp_selfie = mp.solutions.selfie_segmentation\n",
    "\n",
    "# Start video capture\n",
    "cap = cv2.VideoCapture(0)\n",
    "\n",
    "# Use 'with' statement for the segmentation model\n",
    "with mp_selfie.SelfieSegmentation(model_selection=1) as model:  # Model 1 = Higher quality segmentation\n",
    "    while cap.isOpened():\n",
    "        ret, frame = cap.read()\n",
    "        if not ret:\n",
    "            break\n",
    "        \n",
    "        # Convert frame to RGB (MediaPipe requires RGB input)\n",
    "        frame_rgb = cv2.cvtColor(frame, cv2.COLOR_BGR2RGB)\n",
    "\n",
    "        # Process the frame with segmentation model\n",
    "        res = model.process(frame_rgb)\n",
    "\n",
    "        # Extract the segmentation mask\n",
    "        mask = res.segmentation_mask\n",
    "\n",
    "        # Convert mask to binary (1 = person, 0 = background)\n",
    "        binary_mask = (mask > 0.5).astype(np.uint8)\n",
    "\n",
    "        # Expand mask dimensions to match frame shape (for broadcasting)\n",
    "        binary_mask = np.stack((binary_mask,) * 3, axis=-1)\n",
    "\n",
    "        # Create a solid background (black) for the segmented frame\n",
    "        background = np.zeros_like(frame, dtype=np.uint8)\n",
    "\n",
    "        # Blend the original frame and the background using the mask\n",
    "        output_frame = frame * binary_mask + background * (1 - binary_mask)\n",
    "\n",
    "        # Show the result in real-time\n",
    "        cv2.imshow('Real-Time Selfie Segmentation', output_frame)\n",
    "\n",
    "        # Exit when 'q' is pressed\n",
    "        if cv2.waitKey(10) & 0xFF == ord('q'):\n",
    "            break\n",
    "\n",
    "# Release resources\n",
    "cap.release()\n",
    "cv2.destroyAllWindows()\n"
   ]
  },
  {
   "cell_type": "markdown",
   "metadata": {},
   "source": [
    "### For Blur or image background"
   ]
  },
  {
   "cell_type": "code",
   "execution_count": 3,
   "metadata": {},
   "outputs": [],
   "source": [
    "\n",
    "# Initialize MediaPipe Selfie Segmentation\n",
    "mp_selfie = mp.solutions.selfie_segmentation\n",
    "\n",
    "# Start video capture\n",
    "cap = cv2.VideoCapture(0)\n",
    "\n",
    "# Load a custom background image (Optional: Uncomment to use an image)\n",
    "background_image = cv2.imread(\"background.jpg\")  # Replace with your image path\n",
    "use_image_background = background_image is not None  # Set to True if image is loaded successfully\n",
    "\n",
    "# Use 'with' statement for the segmentation model\n",
    "with mp_selfie.SelfieSegmentation(model_selection=1) as model:  # Model 1 = Higher accuracy\n",
    "    while cap.isOpened():\n",
    "        ret, frame = cap.read()\n",
    "        if not ret:\n",
    "            break\n",
    "\n",
    "        # Resize background image to match the webcam frame\n",
    "        if use_image_background:\n",
    "            background_resized = cv2.resize(background_image, (frame.shape[1], frame.shape[0]))\n",
    "        \n",
    "        # Convert frame to RGB (MediaPipe requires RGB input)\n",
    "        frame_rgb = cv2.cvtColor(frame, cv2.COLOR_BGR2RGB)\n",
    "\n",
    "        # Process the frame with segmentation model\n",
    "        res = model.process(frame_rgb)\n",
    "\n",
    "        # Extract the segmentation mask\n",
    "        mask = res.segmentation_mask\n",
    "\n",
    "        # Convert mask to binary (1 = person, 0 = background)\n",
    "        binary_mask = (mask > 0.5).astype(np.uint8)\n",
    "\n",
    "        # Expand mask dimensions to match frame shape (for broadcasting)\n",
    "        binary_mask = np.stack((binary_mask,) * 3, axis=-1)\n",
    "\n",
    "        # **Option 1: Blurred Background**\n",
    "        blurred_background = cv2.GaussianBlur(frame, (55, 55), 0)  # Apply Gaussian Blur\n",
    "\n",
    "        # **Option 2: Image Background**\n",
    "        background = background_resized if use_image_background else blurred_background  # Use image or blur\n",
    "\n",
    "        # Blend the original frame and the background using the mask\n",
    "        output_frame = frame * binary_mask + background * (1 - binary_mask)\n",
    "\n",
    "        # Show the result in real-time\n",
    "        cv2.imshow('Real-Time Selfie Segmentation', output_frame)\n",
    "\n",
    "        # Exit when 'q' is pressed\n",
    "        if cv2.waitKey(10) & 0xFF == ord('q'):\n",
    "            break\n",
    "\n",
    "# Release resources\n",
    "cap.release()\n",
    "cv2.destroyAllWindows()\n"
   ]
  },
  {
   "cell_type": "markdown",
   "metadata": {},
   "source": [
    "### To choose among solid,blur or image Background\n"
   ]
  },
  {
   "cell_type": "code",
   "execution_count": null,
   "metadata": {},
   "outputs": [],
   "source": []
  }
 ],
 "metadata": {
  "kernelspec": {
   "display_name": "Python 3",
   "language": "python",
   "name": "python3"
  },
  "language_info": {
   "codemirror_mode": {
    "name": "ipython",
    "version": 3
   },
   "file_extension": ".py",
   "mimetype": "text/x-python",
   "name": "python",
   "nbconvert_exporter": "python",
   "pygments_lexer": "ipython3",
   "version": "3.12.0"
  }
 },
 "nbformat": 4,
 "nbformat_minor": 2
}
